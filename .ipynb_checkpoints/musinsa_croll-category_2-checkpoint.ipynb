{
 "cells": [
  {
   "cell_type": "code",
   "execution_count": null,
   "metadata": {},
   "outputs": [],
   "source": [
    "from selenium import webdriver\n",
    "from selenium.webdriver.common.keys import Keys\n",
    "from selenium.webdriver.common.by import By\n",
    "import urllib.request\n",
    "from time import sleep\n",
    "from bs4 import BeautifulSoup\n",
    "import requests\n",
    "\n"
   ]
  },
  {
   "cell_type": "code",
   "execution_count": null,
   "metadata": {},
   "outputs": [],
   "source": [
    "path = 'crawling_img/'"
   ]
  },
  {
   "cell_type": "code",
   "execution_count": null,
   "metadata": {
    "scrolled": false
   },
   "outputs": [],
   "source": [
    "options = webdriver.ChromeOptions()\n",
    "options.add_argument('headless')\n",
    "options.add_argument('lang=ko_KR')\n",
    "options.add_argument('Mozilla/5.0 (Macintosh; Intel Mac OS X 10_15_7) AppleWebKit/537.36 (KHTML, like Gecko) Chrome/104.0.5112.81 Safari/537.36')\n",
    "\n",
    "dr = webdriver.Chrome(r'/Users/haesik/chromedriver', chrome_options=options)"
   ]
  },
  {
   "cell_type": "code",
   "execution_count": null,
   "metadata": {},
   "outputs": [],
   "source": [
    "def pageUrl(category, pageNum):\n",
    "    \n",
    "    url = f'https://www.musinsa.com/category/001010?d_cat_cd={category}&brand=&rate=&page_kind=search&list_kind=small&sort=pop&sub_sort=&page={pageNum}&display_cnt=90&sale_goods=&group_sale=&kids=N&ex_soldout=&color=&price1=&price2=&exclusive_yn=&shoeSizeOption=&tags=&campaign_id=&timesale_yn=&q=&includeKeywords=&measure='\n",
    "    return url\n"
   ]
  },
  {
   "cell_type": "code",
   "execution_count": null,
   "metadata": {},
   "outputs": [],
   "source": [
    "category = {'긴소매티셔츠' : '001010',\n",
    "           }\n",
    "\n",
    "keys = []\n",
    "vals = []"
   ]
  },
  {
   "cell_type": "code",
   "execution_count": null,
   "metadata": {},
   "outputs": [],
   "source": [
    "for key, val in category.items():\n",
    "    keys.append(key)\n",
    "    vals.append(val)\n",
    "print(keys, vals)"
   ]
  },
  {
   "cell_type": "code",
   "execution_count": null,
   "metadata": {},
   "outputs": [],
   "source": [
    "# url = pageUrl(category['긴소매티셔츠'], 1)\n",
    "# dr.get(url)"
   ]
  },
  {
   "cell_type": "code",
   "execution_count": null,
   "metadata": {
    "scrolled": false
   },
   "outputs": [],
   "source": [
    "# totalPageNum = dr.find_element(By.CSS_SELECTOR,'.totalPagingNum').text\n",
    "    \n",
    "for category_name in keys: # 파일명에 카테고리 추가하기 위한 for문\n",
    "    for i in range(3): # 원하는 페이지 수만큼 for문 반복\n",
    "        url = pageUrl(category[category_name], i+1)\n",
    "        dr.get(url)\n",
    "        sleep(3)\n",
    "        html = dr.page_source\n",
    "        soup = BeautifulSoup(html, 'html.parser')\n",
    "\n",
    "        imgs = soup.select('div.li_inner img')\n",
    "        # urls = soup.select('div.li_inner a')\n",
    "\n",
    "        for img in imgs:\n",
    "            srcset = img.get('src')\n",
    "    #         urls = img.get('href')\n",
    "    #         print(urls)\n",
    "            if srcset[-3] == 'p' or srcset[-3] == 'g' or ('_brand' in srcset):\n",
    "                continue\n",
    "            if len(srcset):\n",
    "                src = str(srcset)\n",
    "                filename = src.split('/')[-1] + category_name\n",
    "                saveUrl = path+category_name+'/'+filename\n",
    "                #print(src, i+1)\n",
    "                if not os.path.exists(saveUrl):\n",
    "                    os.makedirs(saveUrl)\n",
    "                req = urllib.request.Request(src, headers={'User-Agent': 'Mozilla/5.0'})\n",
    "                \n",
    "                try:\n",
    "                    imgUrl = urllib.request.urlopen(req).read() #웹 페이지 상의 이미지를 불러옴\n",
    "                    with open(saveUrl,\"wb\") as f: #디렉토리 오픈\n",
    "                        f.write(imgUrl) #파일 저장\n",
    "                except urllib.error.HTTPError:\n",
    "                    print('에러')\n",
    "                    sys.exit(0)"
   ]
  },
  {
   "cell_type": "code",
   "execution_count": null,
   "metadata": {},
   "outputs": [],
   "source": []
  },
  {
   "cell_type": "code",
   "execution_count": null,
   "metadata": {},
   "outputs": [],
   "source": []
  },
  {
   "cell_type": "code",
   "execution_count": null,
   "metadata": {},
   "outputs": [],
   "source": []
  },
  {
   "cell_type": "code",
   "execution_count": null,
   "metadata": {},
   "outputs": [],
   "source": []
  },
  {
   "cell_type": "code",
   "execution_count": null,
   "metadata": {},
   "outputs": [],
   "source": []
  }
 ],
 "metadata": {
  "kernelspec": {
   "display_name": "Python 3",
   "language": "python",
   "name": "python3"
  },
  "language_info": {
   "codemirror_mode": {
    "name": "ipython",
    "version": 3
   },
   "file_extension": ".py",
   "mimetype": "text/x-python",
   "name": "python",
   "nbconvert_exporter": "python",
   "pygments_lexer": "ipython3",
   "version": "3.8.5"
  }
 },
 "nbformat": 4,
 "nbformat_minor": 5
}
