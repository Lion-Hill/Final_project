{
 "cells": [
  {
   "cell_type": "code",
   "execution_count": 1,
   "metadata": {},
   "outputs": [
    {
     "ename": "ModuleNotFoundError",
     "evalue": "No module named 'selenium'",
     "output_type": "error",
     "traceback": [
      "\u001b[1;31m---------------------------------------------------------------------------\u001b[0m",
      "\u001b[1;31mModuleNotFoundError\u001b[0m                       Traceback (most recent call last)",
      "\u001b[1;32m<ipython-input-1-08b5512ddb06>\u001b[0m in \u001b[0;36m<module>\u001b[1;34m\u001b[0m\n\u001b[1;32m----> 1\u001b[1;33m \u001b[1;32mfrom\u001b[0m \u001b[0mselenium\u001b[0m \u001b[1;32mimport\u001b[0m \u001b[0mwebdriver\u001b[0m\u001b[1;33m\u001b[0m\u001b[1;33m\u001b[0m\u001b[0m\n\u001b[0m\u001b[0;32m      2\u001b[0m \u001b[1;32mfrom\u001b[0m \u001b[0mselenium\u001b[0m\u001b[1;33m.\u001b[0m\u001b[0mwebdriver\u001b[0m\u001b[1;33m.\u001b[0m\u001b[0mcommon\u001b[0m\u001b[1;33m.\u001b[0m\u001b[0mkeys\u001b[0m \u001b[1;32mimport\u001b[0m \u001b[0mKeys\u001b[0m\u001b[1;33m\u001b[0m\u001b[1;33m\u001b[0m\u001b[0m\n\u001b[0;32m      3\u001b[0m \u001b[1;32mfrom\u001b[0m \u001b[0mselenium\u001b[0m\u001b[1;33m.\u001b[0m\u001b[0mwebdriver\u001b[0m\u001b[1;33m.\u001b[0m\u001b[0mcommon\u001b[0m\u001b[1;33m.\u001b[0m\u001b[0mby\u001b[0m \u001b[1;32mimport\u001b[0m \u001b[0mBy\u001b[0m\u001b[1;33m\u001b[0m\u001b[1;33m\u001b[0m\u001b[0m\n\u001b[0;32m      4\u001b[0m \u001b[1;32mimport\u001b[0m \u001b[0murllib\u001b[0m\u001b[1;33m.\u001b[0m\u001b[0mrequest\u001b[0m\u001b[1;33m\u001b[0m\u001b[1;33m\u001b[0m\u001b[0m\n\u001b[0;32m      5\u001b[0m \u001b[1;32mfrom\u001b[0m \u001b[0mtime\u001b[0m \u001b[1;32mimport\u001b[0m \u001b[0msleep\u001b[0m\u001b[1;33m\u001b[0m\u001b[1;33m\u001b[0m\u001b[0m\n",
      "\u001b[1;31mModuleNotFoundError\u001b[0m: No module named 'selenium'"
     ]
    }
   ],
   "source": [
    "from selenium import webdriver\n",
    "from selenium.webdriver.common.keys import Keys\n",
    "from selenium.webdriver.common.by import By\n",
    "import urllib.request\n",
    "from time import sleep\n",
    "from bs4 import BeautifulSoup"
   ]
  },
  {
   "cell_type": "code",
   "execution_count": 2,
   "metadata": {
    "scrolled": false
   },
   "outputs": [
    {
     "name": "stderr",
     "output_type": "stream",
     "text": [
      "/var/folders/_r/t0850t25205glr23wbv73ct80000gn/T/ipykernel_1058/1484706248.py:5: DeprecationWarning: executable_path has been deprecated, please pass in a Service object\n",
      "  dr = webdriver.Chrome(r'/Users/haesik/chromedriver', chrome_options=options)\n",
      "/var/folders/_r/t0850t25205glr23wbv73ct80000gn/T/ipykernel_1058/1484706248.py:5: DeprecationWarning: use options instead of chrome_options\n",
      "  dr = webdriver.Chrome(r'/Users/haesik/chromedriver', chrome_options=options)\n"
     ]
    }
   ],
   "source": [
    "options = webdriver.ChromeOptions()\n",
    "options.add_argument('headless')\n",
    "options.add_argument('lang=ko_KR')\n",
    "\n",
    "dr = webdriver.Chrome(r'/Users/haesik/chromedriver', chrome_options=options)"
   ]
  },
  {
   "cell_type": "code",
   "execution_count": 3,
   "metadata": {},
   "outputs": [],
   "source": [
    "def pageUrl(category, pageNum):\n",
    "    \n",
    "    url = f'https://www.musinsa.com/category/001010?d_cat_cd={category}&brand=&rate=&page_kind=search&list_kind=small&sort=pop&sub_sort=&page={pageNum}&display_cnt=90&sale_goods=&group_sale=&kids=N&ex_soldout=&color=&price1=&price2=&exclusive_yn=&shoeSizeOption=&tags=&campaign_id=&timesale_yn=&q=&includeKeywords=&measure='\n",
    "    return url\n"
   ]
  },
  {
   "cell_type": "code",
   "execution_count": 38,
   "metadata": {},
   "outputs": [],
   "source": [
    "category = {'긴소매티셔츠' : '001010',\n",
    "           }"
   ]
  },
  {
   "cell_type": "code",
   "execution_count": 32,
   "metadata": {},
   "outputs": [],
   "source": [
    "# url = pageUrl(category['긴소매티셔츠'], 1)\n",
    "# dr.get(url)"
   ]
  },
  {
   "cell_type": "code",
   "execution_count": 53,
   "metadata": {},
   "outputs": [
    {
     "name": "stdout",
     "output_type": "stream",
     "text": [
      "https://image.msscdn.net/images/goods_img/20220407/2472511/2472511_1_70.jpg 1\n",
      "https://image.msscdn.net/images/goods_img/20220421/2507105/2507105_1_70.jpg 1\n",
      "https://image.msscdn.net/images/goods_img/20220809/2705698/2705698_1_70.jpg 1\n",
      "https://image.msscdn.net/images/goods_img/20200911/1596890/1596890_1_70.jpg 1\n",
      "https://image.msscdn.net/images/goods_img/20220727/2685239/2685239_1_70.jpg 1\n",
      "https://image.msscdn.net/images/goods_img/20210329/1867509/1867509_1_70.jpg 1\n",
      "https://image.msscdn.net/images/goods_img/20190905/1144989/1144989_3_125.jpg 1\n",
      "https://image.msscdn.net/images/goods_img/20160902/404474/404474_14_125.jpg 1\n",
      "https://image.msscdn.net/images/goods_img/20190826/1129745/1129745_3_125.jpg 1\n",
      "https://image.msscdn.net/images/goods_img/20210928/2149254/2149254_1_125.jpg 1\n",
      "https://image.msscdn.net/images/goods_img/20200225/1322019/1322019_8_125.jpg 1\n",
      "https://image.msscdn.net/images/goods_img/20191016/1190264/1190264_6_125.jpg 1\n",
      "https://image.msscdn.net/images/goods_img/20160907/407067/407067_10_125.jpg 1\n",
      "https://image.msscdn.net/images/goods_img/20180906/850153/850153_1_125.jpg 1\n",
      "https://image.msscdn.net/images/goods_img/20190827/1130844/1130844_1_125.jpg 1\n",
      "https://image.msscdn.net/images/goods_img/20191016/1190268/1190268_4_125.jpg 1\n",
      "https://image.msscdn.net/images/goods_img/20190710/1092992/1092992_1_70.jpg 2\n",
      "https://image.msscdn.net/images/goods_img/20200511/1439527/1439527_5_70.jpg 2\n",
      "https://image.msscdn.net/images/goods_img/20200424/1419869/1419869_5_70.jpg 2\n",
      "https://image.msscdn.net/images/goods_img/20220223/2381942/2381942_1_70.jpg 2\n",
      "https://image.msscdn.net/images/goods_img/20200304/1334438/1334438_1_70.jpg 2\n",
      "https://image.msscdn.net/images/goods_img/20200511/1439535/1439535_8_70.jpg 2\n",
      "https://image.msscdn.net/images/goods_img/20220805/2701912/2701912_3_125.jpg 2\n",
      "https://image.msscdn.net/images/goods_img/20220805/2701910/2701910_3_125.jpg 2\n",
      "https://image.msscdn.net/images/goods_img/20220805/2701581/2701581_5_125.jpg 2\n",
      "https://image.msscdn.net/images/goods_img/20220805/2701911/2701911_4_125.jpg 2\n",
      "https://image.msscdn.net/images/goods_img/20220805/2701578/2701578_5_125.jpg 2\n",
      "https://image.msscdn.net/images/goods_img/20220805/2701024/2701024_1_125.jpg 2\n",
      "https://image.msscdn.net/images/goods_img/20220805/2701025/2701025_1_125.jpg 2\n",
      "https://image.msscdn.net/images/goods_img/20220805/2701913/2701913_3_125.jpg 2\n",
      "https://image.msscdn.net/images/goods_img/20220805/2701579/2701579_6_125.jpg 2\n",
      "https://image.msscdn.net/images/goods_img/20220805/2701030/2701030_1_125.jpg 2\n",
      "https://image.msscdn.net/images/goods_img/20220407/2472511/2472511_1_70.jpg 3\n",
      "https://image.msscdn.net/images/goods_img/20220421/2507105/2507105_1_70.jpg 3\n",
      "https://image.msscdn.net/images/goods_img/20220809/2705698/2705698_1_70.jpg 3\n",
      "https://image.msscdn.net/images/goods_img/20200911/1596890/1596890_1_70.jpg 3\n",
      "https://image.msscdn.net/images/goods_img/20220727/2685239/2685239_1_70.jpg 3\n",
      "https://image.msscdn.net/images/goods_img/20210329/1867509/1867509_1_70.jpg 3\n",
      "https://image.msscdn.net/images/goods_img/20220805/2702084/2702084_1_125.jpg 3\n",
      "https://image.msscdn.net/images/goods_img/20220805/2702091/2702091_1_125.jpg 3\n",
      "https://image.msscdn.net/images/goods_img/20220211/2355720/2355720_1_125.jpg 3\n",
      "https://image.msscdn.net/images/goods_img/20210811/2058144/2058144_2_125.jpg 3\n",
      "https://image.msscdn.net/images/goods_img/20220728/2686334/2686334_2_125.jpg 3\n",
      "https://image.msscdn.net/images/goods_img/20220809/2705166/2705166_1_125.jpg 3\n",
      "https://image.msscdn.net/images/goods_img/20181205/917937/917937_1_125.jpg 3\n",
      "https://image.msscdn.net/images/goods_img/20220728/2687370/2687370_4_125.jpg 3\n",
      "https://image.msscdn.net/images/goods_img/20200407/1388363/1388363_2_125.jpg 3\n",
      "https://image.msscdn.net/images/goods_img/20190905/1145011/1145011_3_125.jpg 3\n"
     ]
    }
   ],
   "source": [
    "# totalPageNum = dr.find_element(By.CSS_SELECTOR,'.totalPagingNum').text\n",
    "    \n",
    "for i in range(3):\n",
    "    url = pageUrl(category['긴소매티셔츠'], i+1)\n",
    "    dr.get(url)\n",
    "    sleep(1)\n",
    "    html = dr.page_source\n",
    "    soup = BeautifulSoup(html, 'html.parser')\n",
    "\n",
    "    imgs = soup.select('div.li_inner img')\n",
    "    # urls = soup.select('div.li_inner a')\n",
    "\n",
    "    for img in imgs:\n",
    "        srcset = img.get('src')\n",
    "        if srcset[-3] == 'p' or srcset[-3] == 'g' or ('_brand' in srcset):\n",
    "            continue\n",
    "        if len(srcset):\n",
    "            src = str(srcset)\n",
    "            filename = src.split('/')[-1]\n",
    "            print(src, i+1)"
   ]
  },
  {
   "cell_type": "code",
   "execution_count": null,
   "metadata": {},
   "outputs": [],
   "source": []
  },
  {
   "cell_type": "code",
   "execution_count": null,
   "metadata": {},
   "outputs": [],
   "source": []
  },
  {
   "cell_type": "code",
   "execution_count": null,
   "metadata": {},
   "outputs": [],
   "source": []
  },
  {
   "cell_type": "code",
   "execution_count": null,
   "metadata": {},
   "outputs": [],
   "source": []
  },
  {
   "cell_type": "code",
   "execution_count": null,
   "metadata": {},
   "outputs": [],
   "source": []
  }
 ],
 "metadata": {
  "kernelspec": {
   "display_name": "Python 3",
   "language": "python",
   "name": "python3"
  }
 },
 "nbformat": 4,
 "nbformat_minor": 5
}
