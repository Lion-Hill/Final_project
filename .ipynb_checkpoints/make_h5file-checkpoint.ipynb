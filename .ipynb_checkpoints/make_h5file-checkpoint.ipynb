{
 "cells": [
  {
   "cell_type": "code",
   "execution_count": 94,
   "metadata": {},
   "outputs": [],
   "source": [
    "import h5py\n",
    "import cv2\n",
    "import datetime as dt\n",
    "import matplotlib.pyplot as plt\n",
    "import matplotlib.pylab as plb\n",
    "import numpy as np\n",
    "import os\n",
    "import pandas as pd\n",
    "from glob import glob\n",
    "from PIL import Image"
   ]
  },
  {
   "cell_type": "code",
   "execution_count": 96,
   "metadata": {
    "scrolled": true
   },
   "outputs": [],
   "source": [
    "def proc_images():\n",
    "#     file_path = os.getcwd()\n",
    "    start = dt.datetime.now()\n",
    "\n",
    "    #여기 모델 폴더 주소/* 로 넣어주심 됩니다!!\n",
    "    images = glob('C:/Users/pgho8/Likelion_AI6/Final_project/Model-Image_deid/*')\n",
    "\n",
    "       \n",
    "#     # Size of data\n",
    "    NUM_IMAGES = len(images)\n",
    "    HEIGHT = 360\n",
    "    WIDTH = 180\n",
    "    CHANNELS = 3\n",
    "    SHAPE = (HEIGHT, WIDTH, CHANNELS)\n",
    "    \n",
    "    with h5py.File('model_dataset.h5', 'w') as hf: \n",
    "        for i,img in enumerate(images):            \n",
    "            # Images\n",
    "            image = cv2.imread(img)\n",
    "            image = cv2.resize(image, (WIDTH,HEIGHT), interpolation=cv2.INTER_CUBIC)\n",
    "            model_data = hf.create_dataset(\n",
    "                name=(img.split('\\\\')[-1]),\n",
    "                data=image,\n",
    "                shape=(HEIGHT, WIDTH, CHANNELS),\n",
    "                maxshape=(HEIGHT, WIDTH, CHANNELS),\n",
    "                compression=\"gzip\",\n",
    "                compression_opts=9)\n",
    "            end=dt.datetime.now()\n",
    "            print(\"\\r\", i, \": \", (end-start).seconds, \"seconds\", end=\"/n\")"
   ]
  },
  {
   "cell_type": "code",
   "execution_count": null,
   "metadata": {},
   "outputs": [],
   "source": [
    "proc_images()"
   ]
  },
  {
   "cell_type": "code",
   "execution_count": 95,
   "metadata": {},
   "outputs": [],
   "source": [
    "# hdf = h5py.File(\"data.h5_2\",'r')\n",
    "# array = hdf['1008_1008_720_B_B002_B002_108.jpg'][:]\n",
    "# img = Image.fromarray(array.astype('uint8'), 'RGB')\n",
    "# img.save(\"yourimage.thumbnail\", \"JPEG\")\n",
    "# img.show()"
   ]
  }
 ],
 "metadata": {
  "kernelspec": {
   "display_name": "Python 3",
   "language": "python",
   "name": "python3"
  },
  "language_info": {
   "codemirror_mode": {
    "name": "ipython",
    "version": 3
   },
   "file_extension": ".py",
   "mimetype": "text/x-python",
   "name": "python",
   "nbconvert_exporter": "python",
   "pygments_lexer": "ipython3",
   "version": "3.8.5"
  }
 },
 "nbformat": 4,
 "nbformat_minor": 4
}
